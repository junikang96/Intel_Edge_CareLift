{
 "cells": [
  {
   "cell_type": "code",
   "execution_count": null,
   "metadata": {},
   "outputs": [],
   "source": [
    "!wget -O wheelchair.zip https://app.roboflow.com/ds/th2kY31t7e?key=gB9mY7qh61"
   ]
  },
  {
   "cell_type": "code",
   "execution_count": null,
   "metadata": {},
   "outputs": [],
   "source": [
    "import zipfile\n",
    "\n",
    "with zipfile.ZipFile('/content/wheelchair.zip') as target_file:\n",
    "  target_file.extractall('/content/wheelchair/')"
   ]
  },
  {
   "cell_type": "code",
   "execution_count": null,
   "metadata": {},
   "outputs": [],
   "source": [
    "!cat /content/wheelchair/data.yaml"
   ]
  },
  {
   "cell_type": "code",
   "execution_count": null,
   "metadata": {},
   "outputs": [],
   "source": [
    "!pip install PyYAML"
   ]
  },
  {
   "cell_type": "code",
   "execution_count": null,
   "metadata": {},
   "outputs": [],
   "source": [
    "import yaml\n",
    "\n",
    "data = {\n",
    "    'train' : '/content/wheelchair/train/images/',\n",
    "    'val' : '/content/wheelchair/valid/images/',\n",
    "    'test' : '/content/wheelchair/test/images/',\n",
    "    'names' : ['Wheel', 'Wheel-chairs', 'handicap-people', 'people_wheelchair', 'wheel chair', 'wheelchair'],\n",
    "    'nc' : 6\n",
    "}\n",
    "\n",
    "with open('/content/wheelchair/wheelchair_Data.yaml', 'w') as f:\n",
    "  yaml.dump(data, f)\n",
    "\n",
    "with open('/content/wheelchair/wheelchair_Data.yaml', 'r') as f:\n",
    "  wheelchair_yaml = yaml.safe_load(f)\n",
    "  display(wheelchair_yaml)"
   ]
  },
  {
   "cell_type": "code",
   "execution_count": null,
   "metadata": {},
   "outputs": [],
   "source": [
    "!pip install ultralytics"
   ]
  },
  {
   "cell_type": "code",
   "execution_count": null,
   "metadata": {},
   "outputs": [],
   "source": [
    "import ultralytics\n",
    "\n",
    "\n",
    "ultralytics.checks()"
   ]
  },
  {
   "cell_type": "code",
   "execution_count": null,
   "metadata": {},
   "outputs": [],
   "source": [
    "from ultralytics import YOLO\n",
    "model = YOLO('yolov8n.pt')"
   ]
  },
  {
   "cell_type": "code",
   "execution_count": null,
   "metadata": {},
   "outputs": [],
   "source": [
    "print(type(model.names), len(model.names))\n",
    "print(model.names)"
   ]
  },
  {
   "cell_type": "code",
   "execution_count": null,
   "metadata": {},
   "outputs": [],
   "source": [
    "!mkdir /content/wheelchair/valid\n",
    "!mkdir /content/wheelchair/test"
   ]
  },
  {
   "cell_type": "code",
   "execution_count": null,
   "metadata": {},
   "outputs": [],
   "source": [
    "from glob import glob\n",
    "\n",
    "img_list = glob('/content/wheelchair/train/images/*.jpg')\n",
    "\n",
    "print(len(img_list))"
   ]
  },
  {
   "cell_type": "code",
   "execution_count": null,
   "metadata": {},
   "outputs": [],
   "source": [
    "!mkdir /content/wheelchair/extra"
   ]
  },
  {
   "cell_type": "code",
   "execution_count": null,
   "metadata": {},
   "outputs": [],
   "source": [
    "from sklearn.model_selection import train_test_split\n",
    "\n",
    "train_img_list, val_img_list = train_test_split(img_list, test_size=0.2, random_state=2023)\n",
    "\n",
    "test_img_list, val_img_list = train_test_split(val_img_list, test_size=0.5, random_state=2023)\n",
    "\n",
    "print(len(train_img_list), len(val_img_list), len(test_img_list))"
   ]
  },
  {
   "cell_type": "code",
   "execution_count": null,
   "metadata": {},
   "outputs": [],
   "source": [
    "with open('/content/wheelchair/train.txt', 'w') as f:\n",
    "  f.write('\\n'.join(train_img_list) + '\\n')\n",
    "\n",
    "with open('/content/wheelchair/val.txt', 'w') as f:\n",
    "  f.write('\\n'.join(val_img_list) + '\\n')\n",
    "\n",
    "with open('/content/wheelchair/test.txt', 'w') as f:\n",
    "  f.write('\\n'.join(test_img_list) + '\\n')"
   ]
  },
  {
   "cell_type": "code",
   "execution_count": null,
   "metadata": {},
   "outputs": [],
   "source": [
    "import yaml\n",
    "\n",
    "with open('/content/wheelchair/wheelchair_Data.yaml', 'r') as f:\n",
    "  wheelchair_yaml = yaml.safe_load(f)\n",
    "\n",
    "print(wheelchair_yaml)\n",
    "\n",
    "wheelchair_yaml['train'] = '/content/wheelchair/train.txt'\n",
    "wheelchair_yaml['val'] = '/content/wheelchair/val.txt'\n",
    "wheelchair_yaml['test'] = '/content/wheelchair/test.txt'\n",
    "\n",
    "with open('/content/wheelchair/wheelchair_Data.yaml', 'w') as f:\n",
    "  yaml.dump(wheelchair_yaml, f)\n",
    "\n",
    "print(wheelchair_yaml)"
   ]
  },
  {
   "cell_type": "code",
   "execution_count": null,
   "metadata": {},
   "outputs": [],
   "source": [
    "model.train(data='/content/wheelchair/wheelchair_Data.yaml', epochs=100, patience=30, batch=32, imgsz=416)"
   ]
  },
  {
   "cell_type": "code",
   "execution_count": null,
   "metadata": {},
   "outputs": [],
   "source": [
    "print(type(model.names), len(model.names))\n",
    "\n",
    "print(model.names)"
   ]
  },
  {
   "cell_type": "code",
   "execution_count": null,
   "metadata": {},
   "outputs": [],
   "source": [
    "result = model.predict(source='/content/wheelchair/test.txt/', save=True)"
   ]
  },
  {
   "cell_type": "code",
   "execution_count": null,
   "metadata": {},
   "outputs": [],
   "source": [
    "from google.colab.patches import cv2_imshow # google의 자체 개발 라이브러리에서 cv2_imshow를 import\n",
    "\n",
    "res_plotted = result[0].plot() # plot() 함수를 이용해서 이미지 내에 bounding box나 mask 등의 result 결과를 그릴 수 O\n",
    "# print(res_plotted)\n",
    "\n",
    "# plt.figure(figsize=(12, 12))\n",
    "# plt.imshow(cv2.cvtColor(res_plotted, cv2.COLOR_BGR2RGB))\n",
    "# plt.show()\n",
    "\n",
    "cv2_imshow(res_plotted)"
   ]
  },
  {
   "cell_type": "code",
   "execution_count": null,
   "metadata": {},
   "outputs": [],
   "source": [
    "from google.colab import files\n",
    "import cv2\n",
    "import numpy as np\n",
    "\n",
    "# 파일 업로드\n",
    "uploaded = files.upload()\n",
    "\n",
    "# 업로드한 파일의 이름 가져오기\n",
    "file_name = list(uploaded.keys())[0]\n",
    "\n",
    "# OpenCV로 이미지 읽기\n",
    "image = cv2.imread(file_name)\n",
    "\n",
    "# 모델에 적용 (예: YOLOv8 모델 사용)\n",
    "results = model(image)  # YOLO 모델 추론\n",
    "res_plotted = results[0].plot()\n",
    "\n",
    "# 결과 표시\n",
    "from google.colab.patches import cv2_imshow\n",
    "cv2_imshow(res_plotted)\n"
   ]
  }
 ],
 "metadata": {
  "language_info": {
   "name": "python"
  }
 },
 "nbformat": 4,
 "nbformat_minor": 2
}
